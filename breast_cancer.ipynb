{
  "nbformat": 4,
  "nbformat_minor": 0,
  "metadata": {
    "colab": {
      "provenance": [],
      "authorship_tag": "ABX9TyMVB9zr4xBIFfnlWi+d1kS7"
    },
    "kernelspec": {
      "name": "python3",
      "display_name": "Python 3"
    },
    "language_info": {
      "name": "python"
    }
  },
  "cells": [
    {
      "cell_type": "code",
      "execution_count": null,
      "metadata": {
        "id": "JBZywe8xHONK"
      },
      "outputs": [],
      "source": [
        "import numpy as np\n",
        "import pandas as pd\n",
        "import matplotlib.pyplot as plt\n",
        "from sklearn.model_selection import train_test_split\n",
        "from sklearn.preprocessing import LabelEncoder, StandardScaler"
      ]
    },
    {
      "cell_type": "code",
      "source": [
        "df = pd.read_csv(\"breast.csv\")\n",
        "df.head()"
      ],
      "metadata": {
        "colab": {
          "base_uri": "https://localhost:8080/",
          "height": 562
        },
        "id": "zQKE_Jc6HYFB",
        "outputId": "2d0b554d-e1c1-4d10-96a5-13bc2e6de483"
      },
      "execution_count": null,
      "outputs": [
        {
          "output_type": "execute_result",
          "data": {
            "text/plain": [
              "   Age                                              Race   \\\n",
              "0   43  Other (American Indian/AK Native, Asian/Pacifi...   \n",
              "1   47  Other (American Indian/AK Native, Asian/Pacifi...   \n",
              "2   67                                              White   \n",
              "3   46                                              White   \n",
              "4   63                                              White   \n",
              "\n",
              "                   Marital Status T Stage  N Stage 6th Stage  \\\n",
              "0  Married (including common law)       T2      N3      IIIC   \n",
              "1  Married (including common law)       T2      N2      IIIA   \n",
              "2  Married (including common law)       T2      N1       IIB   \n",
              "3                        Divorced       T1      N1       IIA   \n",
              "4  Married (including common law)       T2      N2      IIIA   \n",
              "\n",
              "                                 Grade   A Stage  Tumor Size Estrogen Status  \\\n",
              "0  Moderately differentiated; Grade II  Regional          40        Positive   \n",
              "1  Moderately differentiated; Grade II  Regional          45        Positive   \n",
              "2     Poorly differentiated; Grade III  Regional          25        Positive   \n",
              "3  Moderately differentiated; Grade II  Regional          19        Positive   \n",
              "4  Moderately differentiated; Grade II  Regional          35        Positive   \n",
              "\n",
              "  Progesterone Status  Regional Node Examined  Reginol Node Positive  \\\n",
              "0            Positive                      19                     11   \n",
              "1            Positive                      25                      9   \n",
              "2            Positive                       4                      1   \n",
              "3            Positive                      26                      1   \n",
              "4            Positive                      21                      5   \n",
              "\n",
              "   Survival Months Status  \n",
              "0                1  Alive  \n",
              "1                2  Alive  \n",
              "2                2   Dead  \n",
              "3                2   Dead  \n",
              "4                3   Dead  "
            ],
            "text/html": [
              "\n",
              "\n",
              "  <div id=\"df-b9ff78b8-b343-4f7d-9a55-2861adb72709\">\n",
              "    <div class=\"colab-df-container\">\n",
              "      <div>\n",
              "<style scoped>\n",
              "    .dataframe tbody tr th:only-of-type {\n",
              "        vertical-align: middle;\n",
              "    }\n",
              "\n",
              "    .dataframe tbody tr th {\n",
              "        vertical-align: top;\n",
              "    }\n",
              "\n",
              "    .dataframe thead th {\n",
              "        text-align: right;\n",
              "    }\n",
              "</style>\n",
              "<table border=\"1\" class=\"dataframe\">\n",
              "  <thead>\n",
              "    <tr style=\"text-align: right;\">\n",
              "      <th></th>\n",
              "      <th>Age</th>\n",
              "      <th>Race</th>\n",
              "      <th>Marital Status</th>\n",
              "      <th>T Stage</th>\n",
              "      <th>N Stage</th>\n",
              "      <th>6th Stage</th>\n",
              "      <th>Grade</th>\n",
              "      <th>A Stage</th>\n",
              "      <th>Tumor Size</th>\n",
              "      <th>Estrogen Status</th>\n",
              "      <th>Progesterone Status</th>\n",
              "      <th>Regional Node Examined</th>\n",
              "      <th>Reginol Node Positive</th>\n",
              "      <th>Survival Months</th>\n",
              "      <th>Status</th>\n",
              "    </tr>\n",
              "  </thead>\n",
              "  <tbody>\n",
              "    <tr>\n",
              "      <th>0</th>\n",
              "      <td>43</td>\n",
              "      <td>Other (American Indian/AK Native, Asian/Pacifi...</td>\n",
              "      <td>Married (including common law)</td>\n",
              "      <td>T2</td>\n",
              "      <td>N3</td>\n",
              "      <td>IIIC</td>\n",
              "      <td>Moderately differentiated; Grade II</td>\n",
              "      <td>Regional</td>\n",
              "      <td>40</td>\n",
              "      <td>Positive</td>\n",
              "      <td>Positive</td>\n",
              "      <td>19</td>\n",
              "      <td>11</td>\n",
              "      <td>1</td>\n",
              "      <td>Alive</td>\n",
              "    </tr>\n",
              "    <tr>\n",
              "      <th>1</th>\n",
              "      <td>47</td>\n",
              "      <td>Other (American Indian/AK Native, Asian/Pacifi...</td>\n",
              "      <td>Married (including common law)</td>\n",
              "      <td>T2</td>\n",
              "      <td>N2</td>\n",
              "      <td>IIIA</td>\n",
              "      <td>Moderately differentiated; Grade II</td>\n",
              "      <td>Regional</td>\n",
              "      <td>45</td>\n",
              "      <td>Positive</td>\n",
              "      <td>Positive</td>\n",
              "      <td>25</td>\n",
              "      <td>9</td>\n",
              "      <td>2</td>\n",
              "      <td>Alive</td>\n",
              "    </tr>\n",
              "    <tr>\n",
              "      <th>2</th>\n",
              "      <td>67</td>\n",
              "      <td>White</td>\n",
              "      <td>Married (including common law)</td>\n",
              "      <td>T2</td>\n",
              "      <td>N1</td>\n",
              "      <td>IIB</td>\n",
              "      <td>Poorly differentiated; Grade III</td>\n",
              "      <td>Regional</td>\n",
              "      <td>25</td>\n",
              "      <td>Positive</td>\n",
              "      <td>Positive</td>\n",
              "      <td>4</td>\n",
              "      <td>1</td>\n",
              "      <td>2</td>\n",
              "      <td>Dead</td>\n",
              "    </tr>\n",
              "    <tr>\n",
              "      <th>3</th>\n",
              "      <td>46</td>\n",
              "      <td>White</td>\n",
              "      <td>Divorced</td>\n",
              "      <td>T1</td>\n",
              "      <td>N1</td>\n",
              "      <td>IIA</td>\n",
              "      <td>Moderately differentiated; Grade II</td>\n",
              "      <td>Regional</td>\n",
              "      <td>19</td>\n",
              "      <td>Positive</td>\n",
              "      <td>Positive</td>\n",
              "      <td>26</td>\n",
              "      <td>1</td>\n",
              "      <td>2</td>\n",
              "      <td>Dead</td>\n",
              "    </tr>\n",
              "    <tr>\n",
              "      <th>4</th>\n",
              "      <td>63</td>\n",
              "      <td>White</td>\n",
              "      <td>Married (including common law)</td>\n",
              "      <td>T2</td>\n",
              "      <td>N2</td>\n",
              "      <td>IIIA</td>\n",
              "      <td>Moderately differentiated; Grade II</td>\n",
              "      <td>Regional</td>\n",
              "      <td>35</td>\n",
              "      <td>Positive</td>\n",
              "      <td>Positive</td>\n",
              "      <td>21</td>\n",
              "      <td>5</td>\n",
              "      <td>3</td>\n",
              "      <td>Dead</td>\n",
              "    </tr>\n",
              "  </tbody>\n",
              "</table>\n",
              "</div>\n",
              "      <button class=\"colab-df-convert\" onclick=\"convertToInteractive('df-b9ff78b8-b343-4f7d-9a55-2861adb72709')\"\n",
              "              title=\"Convert this dataframe to an interactive table.\"\n",
              "              style=\"display:none;\">\n",
              "\n",
              "  <svg xmlns=\"http://www.w3.org/2000/svg\" height=\"24px\"viewBox=\"0 0 24 24\"\n",
              "       width=\"24px\">\n",
              "    <path d=\"M0 0h24v24H0V0z\" fill=\"none\"/>\n",
              "    <path d=\"M18.56 5.44l.94 2.06.94-2.06 2.06-.94-2.06-.94-.94-2.06-.94 2.06-2.06.94zm-11 1L8.5 8.5l.94-2.06 2.06-.94-2.06-.94L8.5 2.5l-.94 2.06-2.06.94zm10 10l.94 2.06.94-2.06 2.06-.94-2.06-.94-.94-2.06-.94 2.06-2.06.94z\"/><path d=\"M17.41 7.96l-1.37-1.37c-.4-.4-.92-.59-1.43-.59-.52 0-1.04.2-1.43.59L10.3 9.45l-7.72 7.72c-.78.78-.78 2.05 0 2.83L4 21.41c.39.39.9.59 1.41.59.51 0 1.02-.2 1.41-.59l7.78-7.78 2.81-2.81c.8-.78.8-2.07 0-2.86zM5.41 20L4 18.59l7.72-7.72 1.47 1.35L5.41 20z\"/>\n",
              "  </svg>\n",
              "      </button>\n",
              "\n",
              "\n",
              "\n",
              "    <div id=\"df-d4b5f24e-40e6-4d00-b63a-b730bcd91346\">\n",
              "      <button class=\"colab-df-quickchart\" onclick=\"quickchart('df-d4b5f24e-40e6-4d00-b63a-b730bcd91346')\"\n",
              "              title=\"Suggest charts.\"\n",
              "              style=\"display:none;\">\n",
              "\n",
              "<svg xmlns=\"http://www.w3.org/2000/svg\" height=\"24px\"viewBox=\"0 0 24 24\"\n",
              "     width=\"24px\">\n",
              "    <g>\n",
              "        <path d=\"M19 3H5c-1.1 0-2 .9-2 2v14c0 1.1.9 2 2 2h14c1.1 0 2-.9 2-2V5c0-1.1-.9-2-2-2zM9 17H7v-7h2v7zm4 0h-2V7h2v10zm4 0h-2v-4h2v4z\"/>\n",
              "    </g>\n",
              "</svg>\n",
              "      </button>\n",
              "    </div>\n",
              "\n",
              "<style>\n",
              "  .colab-df-quickchart {\n",
              "    background-color: #E8F0FE;\n",
              "    border: none;\n",
              "    border-radius: 50%;\n",
              "    cursor: pointer;\n",
              "    display: none;\n",
              "    fill: #1967D2;\n",
              "    height: 32px;\n",
              "    padding: 0 0 0 0;\n",
              "    width: 32px;\n",
              "  }\n",
              "\n",
              "  .colab-df-quickchart:hover {\n",
              "    background-color: #E2EBFA;\n",
              "    box-shadow: 0px 1px 2px rgba(60, 64, 67, 0.3), 0px 1px 3px 1px rgba(60, 64, 67, 0.15);\n",
              "    fill: #174EA6;\n",
              "  }\n",
              "\n",
              "  [theme=dark] .colab-df-quickchart {\n",
              "    background-color: #3B4455;\n",
              "    fill: #D2E3FC;\n",
              "  }\n",
              "\n",
              "  [theme=dark] .colab-df-quickchart:hover {\n",
              "    background-color: #434B5C;\n",
              "    box-shadow: 0px 1px 3px 1px rgba(0, 0, 0, 0.15);\n",
              "    filter: drop-shadow(0px 1px 2px rgba(0, 0, 0, 0.3));\n",
              "    fill: #FFFFFF;\n",
              "  }\n",
              "</style>\n",
              "\n",
              "    <script>\n",
              "      async function quickchart(key) {\n",
              "        const containerElement = document.querySelector('#' + key);\n",
              "        const charts = await google.colab.kernel.invokeFunction(\n",
              "            'suggestCharts', [key], {});\n",
              "      }\n",
              "    </script>\n",
              "\n",
              "      <script>\n",
              "\n",
              "function displayQuickchartButton(domScope) {\n",
              "  let quickchartButtonEl =\n",
              "    domScope.querySelector('#df-d4b5f24e-40e6-4d00-b63a-b730bcd91346 button.colab-df-quickchart');\n",
              "  quickchartButtonEl.style.display =\n",
              "    google.colab.kernel.accessAllowed ? 'block' : 'none';\n",
              "}\n",
              "\n",
              "        displayQuickchartButton(document);\n",
              "      </script>\n",
              "      <style>\n",
              "    .colab-df-container {\n",
              "      display:flex;\n",
              "      flex-wrap:wrap;\n",
              "      gap: 12px;\n",
              "    }\n",
              "\n",
              "    .colab-df-convert {\n",
              "      background-color: #E8F0FE;\n",
              "      border: none;\n",
              "      border-radius: 50%;\n",
              "      cursor: pointer;\n",
              "      display: none;\n",
              "      fill: #1967D2;\n",
              "      height: 32px;\n",
              "      padding: 0 0 0 0;\n",
              "      width: 32px;\n",
              "    }\n",
              "\n",
              "    .colab-df-convert:hover {\n",
              "      background-color: #E2EBFA;\n",
              "      box-shadow: 0px 1px 2px rgba(60, 64, 67, 0.3), 0px 1px 3px 1px rgba(60, 64, 67, 0.15);\n",
              "      fill: #174EA6;\n",
              "    }\n",
              "\n",
              "    [theme=dark] .colab-df-convert {\n",
              "      background-color: #3B4455;\n",
              "      fill: #D2E3FC;\n",
              "    }\n",
              "\n",
              "    [theme=dark] .colab-df-convert:hover {\n",
              "      background-color: #434B5C;\n",
              "      box-shadow: 0px 1px 3px 1px rgba(0, 0, 0, 0.15);\n",
              "      filter: drop-shadow(0px 1px 2px rgba(0, 0, 0, 0.3));\n",
              "      fill: #FFFFFF;\n",
              "    }\n",
              "  </style>\n",
              "\n",
              "      <script>\n",
              "        const buttonEl =\n",
              "          document.querySelector('#df-b9ff78b8-b343-4f7d-9a55-2861adb72709 button.colab-df-convert');\n",
              "        buttonEl.style.display =\n",
              "          google.colab.kernel.accessAllowed ? 'block' : 'none';\n",
              "\n",
              "        async function convertToInteractive(key) {\n",
              "          const element = document.querySelector('#df-b9ff78b8-b343-4f7d-9a55-2861adb72709');\n",
              "          const dataTable =\n",
              "            await google.colab.kernel.invokeFunction('convertToInteractive',\n",
              "                                                     [key], {});\n",
              "          if (!dataTable) return;\n",
              "\n",
              "          const docLinkHtml = 'Like what you see? Visit the ' +\n",
              "            '<a target=\"_blank\" href=https://colab.research.google.com/notebooks/data_table.ipynb>data table notebook</a>'\n",
              "            + ' to learn more about interactive tables.';\n",
              "          element.innerHTML = '';\n",
              "          dataTable['output_type'] = 'display_data';\n",
              "          await google.colab.output.renderOutput(dataTable, element);\n",
              "          const docLink = document.createElement('div');\n",
              "          docLink.innerHTML = docLinkHtml;\n",
              "          element.appendChild(docLink);\n",
              "        }\n",
              "      </script>\n",
              "    </div>\n",
              "  </div>\n"
            ]
          },
          "metadata": {},
          "execution_count": 22
        }
      ]
    },
    {
      "cell_type": "code",
      "source": [
        "df.isnull().sum()"
      ],
      "metadata": {
        "colab": {
          "base_uri": "https://localhost:8080/"
        },
        "id": "SAywgULnHgyn",
        "outputId": "5bd44e69-5921-422b-a88a-5d0fe2d8441f"
      },
      "execution_count": null,
      "outputs": [
        {
          "output_type": "execute_result",
          "data": {
            "text/plain": [
              "Age                       0\n",
              "Race                      0\n",
              "Marital Status            0\n",
              "T Stage                   0\n",
              "N Stage                   0\n",
              "6th Stage                 0\n",
              "Grade                     0\n",
              "A Stage                   0\n",
              "Tumor Size                0\n",
              "Estrogen Status           0\n",
              "Progesterone Status       0\n",
              "Regional Node Examined    0\n",
              "Reginol Node Positive     0\n",
              "Survival Months           0\n",
              "Status                    0\n",
              "dtype: int64"
            ]
          },
          "metadata": {},
          "execution_count": 23
        }
      ]
    },
    {
      "cell_type": "code",
      "source": [
        "encoded_data = pd.get_dummies(df, columns=['Race ','Marital Status', 'T Stage ','N Stage','6th Stage','Grade', 'A Stage','Estrogen Status','Progesterone Status'], drop_first=True)\n",
        "encoded_data['Status'] = LabelEncoder().fit_transform(encoded_data['Status'])\n",
        "X = encoded_data.drop(columns='Status', axis=1)\n",
        "Y = encoded_data['Status']"
      ],
      "metadata": {
        "id": "WpgcItofHvar"
      },
      "execution_count": null,
      "outputs": []
    },
    {
      "cell_type": "code",
      "source": [
        "X_train, X_test, Y_train, Y_test = train_test_split(X, Y, test_size=0.2, random_state=2)\n",
        "sc = StandardScaler()\n",
        "X_train = sc.fit_transform(X_train)\n",
        "X_test = sc.transform(X_test)"
      ],
      "metadata": {
        "id": "PrJLGNQGHzhJ"
      },
      "execution_count": null,
      "outputs": []
    },
    {
      "cell_type": "code",
      "source": [
        "import keras\n",
        "from keras.models import Sequential\n",
        "from keras.layers import Dense\n",
        "from keras.callbacks import EarlyStopping, ReduceLROnPlateau"
      ],
      "metadata": {
        "id": "kYQyY4yfH36K"
      },
      "execution_count": null,
      "outputs": []
    },
    {
      "cell_type": "code",
      "source": [
        "cl = Sequential()\n",
        "cl.add(Dense(16, kernel_initializer='he_uniform', activation='relu', input_dim=X.shape[1]))\n",
        "cl.add(Dense(32, kernel_initializer='he_uniform', activation='relu'))\n",
        "cl.add(Dense(64, kernel_initializer='he_uniform', activation='relu'))\n",
        "cl.add(Dense(128, kernel_initializer='he_uniform', activation='relu'))\n",
        "cl.add(Dense(1, kernel_initializer='glorot_uniform', activation='sigmoid'))\n",
        "cl.compile(optimizer='Adam', loss='binary_crossentropy', metrics=['accuracy'])"
      ],
      "metadata": {
        "id": "w1HMUZFqH-6V"
      },
      "execution_count": null,
      "outputs": []
    },
    {
      "cell_type": "code",
      "source": [
        "early_stopping = EarlyStopping(monitor='val_loss', patience=10, restore_best_weights=True)\n",
        "reduce_lr = ReduceLROnPlateau(monitor='val_loss', factor=0.1, patience=5, min_lr=0.00001)"
      ],
      "metadata": {
        "id": "La4JdZncINT2"
      },
      "execution_count": null,
      "outputs": []
    },
    {
      "cell_type": "code",
      "source": [
        "model = cl.fit(X_train, Y_train, validation_split=0.3, batch_size=10, epochs=100, callbacks=[early_stopping, reduce_lr])"
      ],
      "metadata": {
        "colab": {
          "base_uri": "https://localhost:8080/"
        },
        "id": "nBaC-eF1IWKz",
        "outputId": "667c3bb6-f65e-40d0-a9a6-bd01dda98307"
      },
      "execution_count": null,
      "outputs": [
        {
          "output_type": "stream",
          "name": "stdout",
          "text": [
            "Epoch 1/100\n",
            "226/226 [==============================] - 3s 5ms/step - loss: 0.3929 - accuracy: 0.8495 - val_loss: 0.3364 - val_accuracy: 0.8644 - lr: 0.0010\n",
            "Epoch 2/100\n",
            "226/226 [==============================] - 1s 3ms/step - loss: 0.3229 - accuracy: 0.8717 - val_loss: 0.3426 - val_accuracy: 0.8602 - lr: 0.0010\n",
            "Epoch 3/100\n",
            "226/226 [==============================] - 1s 3ms/step - loss: 0.3006 - accuracy: 0.8797 - val_loss: 0.3177 - val_accuracy: 0.8758 - lr: 0.0010\n",
            "Epoch 4/100\n",
            "226/226 [==============================] - 1s 3ms/step - loss: 0.2803 - accuracy: 0.8904 - val_loss: 0.2998 - val_accuracy: 0.8851 - lr: 0.0010\n",
            "Epoch 5/100\n",
            "226/226 [==============================] - 1s 3ms/step - loss: 0.2612 - accuracy: 0.8944 - val_loss: 0.3087 - val_accuracy: 0.8861 - lr: 0.0010\n",
            "Epoch 6/100\n",
            "226/226 [==============================] - 1s 3ms/step - loss: 0.2533 - accuracy: 0.8984 - val_loss: 0.3191 - val_accuracy: 0.8872 - lr: 0.0010\n",
            "Epoch 7/100\n",
            "226/226 [==============================] - 1s 3ms/step - loss: 0.2419 - accuracy: 0.9024 - val_loss: 0.3302 - val_accuracy: 0.8820 - lr: 0.0010\n",
            "Epoch 8/100\n",
            "226/226 [==============================] - 1s 3ms/step - loss: 0.2343 - accuracy: 0.9050 - val_loss: 0.3400 - val_accuracy: 0.8820 - lr: 0.0010\n",
            "Epoch 9/100\n",
            "226/226 [==============================] - 1s 4ms/step - loss: 0.2261 - accuracy: 0.9086 - val_loss: 0.3448 - val_accuracy: 0.8872 - lr: 0.0010\n",
            "Epoch 10/100\n",
            "226/226 [==============================] - 1s 6ms/step - loss: 0.1976 - accuracy: 0.9197 - val_loss: 0.3398 - val_accuracy: 0.8872 - lr: 1.0000e-04\n",
            "Epoch 11/100\n",
            "226/226 [==============================] - 1s 5ms/step - loss: 0.1914 - accuracy: 0.9250 - val_loss: 0.3408 - val_accuracy: 0.8851 - lr: 1.0000e-04\n",
            "Epoch 12/100\n",
            "226/226 [==============================] - 1s 6ms/step - loss: 0.1888 - accuracy: 0.9250 - val_loss: 0.3428 - val_accuracy: 0.8841 - lr: 1.0000e-04\n",
            "Epoch 13/100\n",
            "226/226 [==============================] - 2s 8ms/step - loss: 0.1865 - accuracy: 0.9277 - val_loss: 0.3442 - val_accuracy: 0.8851 - lr: 1.0000e-04\n",
            "Epoch 14/100\n",
            "226/226 [==============================] - 2s 10ms/step - loss: 0.1847 - accuracy: 0.9294 - val_loss: 0.3469 - val_accuracy: 0.8841 - lr: 1.0000e-04\n"
          ]
        }
      ]
    },
    {
      "cell_type": "code",
      "source": [
        "y_pred = cl.predict(X_test)\n",
        "y_pred = (y_pred > 0.5)"
      ],
      "metadata": {
        "colab": {
          "base_uri": "https://localhost:8080/"
        },
        "id": "MLdzlc-XIZq3",
        "outputId": "44ab898d-75e9-4c77-af23-eb7a40fa60c4"
      },
      "execution_count": null,
      "outputs": [
        {
          "output_type": "stream",
          "name": "stdout",
          "text": [
            "26/26 [==============================] - 0s 3ms/step\n"
          ]
        }
      ]
    },
    {
      "cell_type": "code",
      "source": [
        "from sklearn.metrics import confusion_matrix, accuracy_score, precision_score, recall_score, f1_score"
      ],
      "metadata": {
        "id": "5KTwzdS_IjoZ"
      },
      "execution_count": null,
      "outputs": []
    },
    {
      "cell_type": "code",
      "source": [
        "cm = confusion_matrix(Y_test, y_pred)\n",
        "accuracy = accuracy_score(Y_test, y_pred)\n",
        "precision = precision_score(Y_test, y_pred, average='binary')\n",
        "recall = recall_score(Y_test, y_pred, average='binary')\n",
        "f1 = f1_score(Y_test, y_pred, average='binary')\n",
        "\n",
        "print(\"Confusion Matrix:\")\n",
        "print(cm)\n",
        "print(\"Accuracy:\", accuracy)\n",
        "print(\"Precision:\", precision)\n",
        "print(\"Recall:\", recall)\n",
        "print(\"F1 Score:\", f1)"
      ],
      "metadata": {
        "colab": {
          "base_uri": "https://localhost:8080/"
        },
        "id": "uImZ_Oo9IraE",
        "outputId": "fa259fb1-4b3e-4098-fa66-c37c28629554"
      },
      "execution_count": null,
      "outputs": [
        {
          "output_type": "stream",
          "name": "stdout",
          "text": [
            "Confusion Matrix:\n",
            "[[645  22]\n",
            " [ 92  46]]\n",
            "Accuracy: 0.8583850931677018\n",
            "Precision: 0.6764705882352942\n",
            "Recall: 0.3333333333333333\n",
            "F1 Score: 0.44660194174757284\n"
          ]
        }
      ]
    },
    {
      "cell_type": "code",
      "source": [
        "# Plot the Model Accuracy and Loss\n",
        "plt.plot(model.history['accuracy'])\n",
        "plt.plot(model.history['val_accuracy'])\n",
        "plt.title('Model Accuracy')\n",
        "plt.ylabel('Accuracy')\n",
        "plt.xlabel('Epoch')\n",
        "plt.legend(['Training', 'Validation'], loc='lower right')\n",
        "plt.show()"
      ],
      "metadata": {
        "colab": {
          "base_uri": "https://localhost:8080/",
          "height": 472
        },
        "id": "c1mdJGMHIwoc",
        "outputId": "6fcc3d80-1723-4d60-c564-ad8360461481"
      },
      "execution_count": null,
      "outputs": [
        {
          "output_type": "display_data",
          "data": {
            "text/plain": [
              "<Figure size 640x480 with 1 Axes>"
            ],
            "image/png": "[encoded data removed]"
          },
          "metadata": {}
        }
      ]
    },
    {
      "cell_type": "code",
      "source": [
        "plt.plot(model.history['loss'])\n",
        "plt.plot(model.history['val_loss'])\n",
        "plt.title('Model Loss')\n",
        "plt.ylabel('Loss')\n",
        "plt.xlabel('Epoch')\n",
        "plt.legend(['Training', 'Validation'], loc='upper right')\n",
        "plt.show()"
      ],
      "metadata": {
        "colab": {
          "base_uri": "https://localhost:8080/",
          "height": 472
        },
        "id": "cHMhuFM8I3rz",
        "outputId": "f616b85f-aecd-4658-cbc3-22f3cc3499fe"
      },
      "execution_count": null,
      "outputs": [
        {
          "output_type": "display_data",
          "data": {
            "text/plain": [
              "<Figure size 640x480 with 1 Axes>"
            ],
            "image/png": "[encoded data removed]"
          },
          "metadata": {}
        }
      ]
    },
    {
      "cell_type": "code",
      "source": [
        "cl.save(\"breast_cancer_model.h5\")"
      ],
      "metadata": {
        "id": "8fNqaa27I9bX"
      },
      "execution_count": null,
      "outputs": []
    },
    {
      "cell_type": "code",
      "source": [
        "from tensorflow.keras.models import load_model\n",
        "model = load_model(\"breast_cancer_model.h5\")\n",
        "print(model.summary())"
      ],
      "metadata": {
        "colab": {
          "base_uri": "https://localhost:8080/"
        },
        "id": "zhQBb77kJCf0",
        "outputId": "ea4b85ea-6233-4ba9-a58d-2f7ffaa89b45"
      },
      "execution_count": null,
      "outputs": [
        {
          "output_type": "stream",
          "name": "stdout",
          "text": [
            "Model: \"sequential_1\"\n",
            "_________________________________________________________________\n",
            " Layer (type)                Output Shape              Param #   \n",
            "=================================================================\n",
            " dense_5 (Dense)             (None, 16)                432       \n",
            "                                                                 \n",
            " dense_6 (Dense)             (None, 32)                544       \n",
            "                                                                 \n",
            " dense_7 (Dense)             (None, 64)                2112      \n",
            "                                                                 \n",
            " dense_8 (Dense)             (None, 128)               8320      \n",
            "                                                                 \n",
            " dense_9 (Dense)             (None, 1)                 129       \n",
            "                                                                 \n",
            "=================================================================\n",
            "Total params: 11,537\n",
            "Trainable params: 11,537\n",
            "Non-trainable params: 0\n",
            "_________________________________________________________________\n",
            "None\n"
          ]
        }
      ]
    },
    {
      "cell_type": "code",
      "source": [
        "cl = load_model(\"breast_cancer_model.h5\")"
      ],
      "metadata": {
        "id": "Hc_g9cqVJIUJ"
      },
      "execution_count": null,
      "outputs": []
    },
    {
      "cell_type": "code",
      "source": [
        "# Load and preprocess the data\n",
        "from tensorflow.keras.models import load_model\n",
        "\n",
        "df = pd.read_csv(\"breast.csv\")\n",
        "df.isnull().sum()\n",
        "\n",
        "# Remove leading/trailing spaces in column names\n",
        "df.columns = df.columns.str.strip()\n",
        "\n",
        "encoded_data = pd.get_dummies(df, columns=['Race', 'Marital Status', 'T Stage', 'N Stage', '6th Stage', 'Grade', 'A Stage', 'Estrogen Status', 'Progesterone Status'], drop_first=True)\n",
        "encoded_data['Status'] = LabelEncoder().fit_transform(encoded_data['Status'])\n",
        "X = encoded_data.drop(columns='Status', axis=1)\n",
        "Y = encoded_data['Status']\n",
        "\n",
        "sc = StandardScaler()\n",
        "X = sc.fit_transform(X)\n",
        "\n",
        "# Load the saved model\n",
        "cl = load_model(\"breast_cancer_model.h5\")\n",
        "\n",
        "# User input\n",
        "age = float(input(\"Enter age: \"))\n",
        "race = input(\"Enter race (White/Black/Other): \")\n",
        "marital_status = input(\"Enter marital status (Married/Single/Divorced/Widowed): \")\n",
        "t_stage = input(\"Enter T Stage (T1/T2/T3/T4): \")\n",
        "n_stage = input(\"Enter N Stage (N0/N1/N2/N3): \")\n",
        "stage_6th = input(\"Enter 6th Stage (IIA/IIB/IIIA/IIIB/IIIC): \")\n",
        "grade = input(\"Enter Grade (I/II/III): \")\n",
        "a_stage = input(\"Enter A Stage (Local/Regional/Distant/Unknown): \")\n",
        "tumor_size = float(input(\"Enter Tumor Size: \"))\n",
        "estrogen_status = input(\"Enter Estrogen Status (Positive/Negative/Unknown): \")\n",
        "progesterone_status = input(\"Enter Progesterone Status (Positive/Negative/Unknown): \")\n",
        "regional_node_examined = int(input(\"Enter Regional Node Examined: \"))\n",
        "regional_node_positive = int(input(\"Enter Regional Node Positive: \"))\n",
        "survival_months = int(input(\"Enter Survival Months: \"))\n",
        "\n",
        "# Preprocess the new data\n",
        "new_data = pd.DataFrame({\n",
        "    'Age': [age],\n",
        "    'Race_' + race: [1],\n",
        "    'Marital Status_' + marital_status: [1],\n",
        "    'T Stage_' + t_stage: [1],\n",
        "    'N Stage_' + n_stage: [1],\n",
        "    '6th Stage_' + stage_6th: [1],\n",
        "    'Grade_' + grade: [1],\n",
        "    'A Stage_' + a_stage: [1],\n",
        "    'Tumor Size': [tumor_size],\n",
        "    'Estrogen Status_' + estrogen_status: [1],\n",
        "    'Progesterone Status_' + progesterone_status: [1],\n",
        "    'Regional Node Examined': [regional_node_examined],\n",
        "    'Regional Node Positive': [regional_node_positive],\n",
        "    'Survival Months': [survival_months]\n",
        "})\n",
        "\n",
        "# Add missing columns to new_data\n",
        "missing_columns = set(['Race_Black', 'Race_Other', 'Marital Status_Married (including common law)', 'Marital Status_Single (never married)', 'Marital Status_Divorced', 'Marital Status_Widowed']) - set(new_data.columns)\n",
        "for col in missing_columns:\n",
        "    new_data[col] = [0]\n",
        "\n",
        "# Perform one-hot encoding\n",
        "new_data_encoded = pd.get_dummies(new_data, columns=['Race_White', 'Race_Black', 'Race_Other', 'Marital Status_Married (including common law)', 'Marital Status_Single (never married)', 'Marital Status_Divorced', 'Marital Status_Widowed'], drop_first=True)\n",
        "new_data_encoded = new_data_encoded.reindex(columns=X[1], fill_value=0)\n",
        "new_data_scaled = sc.transform(new_data_encoded)\n",
        "\n",
        "\n",
        "\n",
        "# Perform prediction\n",
        "predicted_status = cl.predict(new_data_scaled)\n",
        "predicted_status = (predicted_status > 0.5)\n",
        "\n",
        "# Display the prediction result\n",
        "if predicted_status:\n",
        "    print(\"The likelihood of breast cancer is low.\")\n",
        "else:\n",
        "    print(\"The likelihood of breast cancer is high.\")\n"
      ],
      "metadata": {
        "colab": {
          "base_uri": "https://localhost:8080/"
        },
        "id": "Nsi1jgXkJL8S",
        "outputId": "5d79a487-68a3-4454-a6bc-c2a1a2a412d3"
      },
      "execution_count": null,
      "outputs": [
        {
          "output_type": "stream",
          "name": "stdout",
          "text": [
            "Enter age: 53\n",
            "Enter race (White/Black/Other): White\n",
            "Enter marital status (Married/Single/Divorced/Widowed): Single\n",
            "Enter T Stage (T1/T2/T3/T4): T1\n",
            "Enter N Stage (N0/N1/N2/N3): N1\n",
            "Enter 6th Stage (IIA/IIB/IIIA/IIIB/IIIC): IIA\n",
            "Enter Grade (I/II/III): II\n",
            "Enter A Stage (Local/Regional/Distant/Unknown): Regional\n",
            "Enter Tumor Size: 17\n",
            "Enter Estrogen Status (Positive/Negative/Unknown): Positive\n",
            "Enter Progesterone Status (Positive/Negative/Unknown): Positive\n",
            "Enter Regional Node Examined: 1\n",
            "Enter Regional Node Positive: 1\n",
            "Enter Survival Months: 4\n",
            "1/1 [==============================] - 0s 88ms/step\n",
            "The likelihood of breast cancer is high.\n"
          ]
        },
        {
          "output_type": "stream",
          "name": "stderr",
          "text": [
            "/usr/local/lib/python3.10/dist-packages/sklearn/base.py:439: UserWarning: X does not have valid feature names, but StandardScaler was fitted with feature names\n",
            "  warnings.warn(\n"
          ]
        }
      ]
    },
    {
      "cell_type": "code",
      "source": [
        "# Load and preprocess the data\n",
        "from tensorflow.keras.models import load_model\n",
        "\n",
        "df = pd.read_csv(\"breast.csv\")\n",
        "df.isnull().sum()\n",
        "\n",
        "# Remove leading/trailing spaces in column names\n",
        "df.columns = df.columns.str.strip()\n",
        "\n",
        "encoded_data = pd.get_dummies(df, columns=['Race', 'Marital Status', 'T Stage', 'N Stage', '6th Stage', 'Grade', 'A Stage', 'Estrogen Status', 'Progesterone Status'], drop_first=True)\n",
        "encoded_data['Status'] = LabelEncoder().fit_transform(encoded_data['Status'])\n",
        "X = encoded_data.drop(columns='Status', axis=1)\n",
        "Y = encoded_data['Status']\n",
        "\n",
        "sc = StandardScaler()\n",
        "X = sc.fit_transform(X)\n",
        "\n",
        "# Load the saved model\n",
        "cl = load_model(\"breast_cancer_model.h5\")\n",
        "\n",
        "# User input\n",
        "age = float(input(\"Enter age: \"))\n",
        "race = input(\"Enter race (White/Black/Other): \")\n",
        "marital_status = input(\"Enter marital status (Married/Single/Divorced/Widowed): \")\n",
        "t_stage = input(\"Enter T Stage (T1/T2/T3/T4): \")\n",
        "n_stage = input(\"Enter N Stage (N0/N1/N2/N3): \")\n",
        "stage_6th = input(\"Enter 6th Stage (IIA/IIB/IIIA/IIIB/IIIC): \")\n",
        "grade = input(\"Enter Grade (I/II/III): \")\n",
        "a_stage = input(\"Enter A Stage (Local/Regional/Distant/Unknown): \")\n",
        "tumor_size = float(input(\"Enter Tumor Size: \"))\n",
        "estrogen_status = input(\"Enter Estrogen Status (Positive/Negative/Unknown): \")\n",
        "progesterone_status = input(\"Enter Progesterone Status (Positive/Negative/Unknown): \")\n",
        "regional_node_examined = int(input(\"Enter Regional Node Examined: \"))\n",
        "regional_node_positive = int(input(\"Enter Regional Node Positive: \"))\n",
        "survival_months = int(input(\"Enter Survival Months: \"))\n",
        "\n",
        "# Preprocess the new data\n",
        "new_data = pd.DataFrame({\n",
        "    'Age': [age],\n",
        "    'Race_' + race: [1],\n",
        "    'Marital Status_' + marital_status: [1],\n",
        "    'T Stage_' + t_stage: [1],\n",
        "    'N Stage_' + n_stage: [1],\n",
        "    '6th Stage_' + stage_6th: [1],\n",
        "    'Grade_' + grade: [1],\n",
        "    'A Stage_' + a_stage: [1],\n",
        "    'Tumor Size': [tumor_size],\n",
        "    'Estrogen Status_' + estrogen_status: [1],\n",
        "    'Progesterone Status_' + progesterone_status: [1],\n",
        "    'Regional Node Examined': [regional_node_examined],\n",
        "    'Regional Node Positive': [regional_node_positive],\n",
        "    'Survival Months': [survival_months]\n",
        "})\n",
        "\n",
        "# Add missing columns to new_data\n",
        "missing_columns = set(['Race_Black', 'Race_Other', 'Marital Status_Married (including common law)', 'Marital Status_Single (never married)', 'Marital Status_Divorced', 'Marital Status_Widowed']) - set(new_data.columns)\n",
        "for col in missing_columns:\n",
        "    new_data[col] = [0]\n",
        "\n",
        "# Perform one-hot encoding\n",
        "new_data_encoded = pd.get_dummies(new_data, columns=['Race_White', 'Race_Black', 'Race_Other', 'Marital Status_Married (including common law)', 'Marital Status_Single (never married)', 'Marital Status_Divorced', 'Marital Status_Widowed'], drop_first=True)\n",
        "new_data_encoded = new_data_encoded.reindex(columns=X[1], fill_value=0)\n",
        "new_data_scaled = sc.transform(new_data_encoded)\n",
        "\n",
        "\n",
        "\n",
        "# Perform prediction\n",
        "predicted_status = cl.predict(new_data_scaled)\n",
        "predicted_status = (predicted_status < 0.5)\n",
        "\n",
        "# Display the prediction result\n",
        "if predicted_status:\n",
        "    print(\"The likelihood of breast cancer is low.\")\n",
        "else:\n",
        "    print(\"The likelihood of breast cancer is high.\")\n"
      ],
      "metadata": {
        "colab": {
          "base_uri": "https://localhost:8080/"
        },
        "id": "srMwwHXaJU_q",
        "outputId": "9fbc5865-9ed2-4917-97f5-9ed4a0c98f5f"
      },
      "execution_count": null,
      "outputs": [
        {
          "output_type": "stream",
          "name": "stdout",
          "text": [
            "Enter age: 53\n",
            "Enter race (White/Black/Other): White\n",
            "Enter marital status (Married/Single/Divorced/Widowed): Single\n",
            "Enter T Stage (T1/T2/T3/T4): T1\n",
            "Enter N Stage (N0/N1/N2/N3): N1\n",
            "Enter 6th Stage (IIA/IIB/IIIA/IIIB/IIIC): IIA\n",
            "Enter Grade (I/II/III): II\n",
            "Enter A Stage (Local/Regional/Distant/Unknown): Regional\n",
            "Enter Tumor Size: 17\n",
            "Enter Estrogen Status (Positive/Negative/Unknown): Positive\n",
            "Enter Progesterone Status (Positive/Negative/Unknown): Positive\n",
            "Enter Regional Node Examined: 1\n",
            "Enter Regional Node Positive: 1\n",
            "Enter Survival Months: 4\n",
            "1/1 [==============================] - 0s 71ms/step\n",
            "The likelihood of breast cancer is low.\n"
          ]
        },
        {
          "output_type": "stream",
          "name": "stderr",
          "text": [
            "/usr/local/lib/python3.10/dist-packages/sklearn/base.py:439: UserWarning: X does not have valid feature names, but StandardScaler was fitted with feature names\n",
            "  warnings.warn(\n"
          ]
        }
      ]
    },
    {
      "cell_type": "code",
      "source": [
        "I"
      ],
      "metadata": {
        "id": "JSMZn4PlZ9mG"
      },
      "execution_count": null,
      "outputs": []
    }
  ]
}